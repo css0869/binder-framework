{
 "cells": [
  {
   "cell_type": "code",
   "execution_count": 1,
   "id": "29c89ac6",
   "metadata": {},
   "outputs": [],
   "source": [
    "import pandas as pd"
   ]
  },
  {
   "cell_type": "code",
   "execution_count": 2,
   "id": "f58e4718",
   "metadata": {},
   "outputs": [],
   "source": [
    "df1=pd.read_csv(\"Downloads/Value_of_Energy_Cost_Savings_Program_Savings_for_Businesses_-_FY2020.csv\")"
   ]
  },
  {
   "cell_type": "code",
   "execution_count": 3,
   "id": "07bb90a2",
   "metadata": {},
   "outputs": [
    {
     "data": {
      "text/plain": [
       "439"
      ]
     },
     "execution_count": 3,
     "metadata": {},
     "output_type": "execute_result"
    }
   ],
   "source": [
    "#How many different companies are represented in the data set?\n",
    "len(df1['Company Name'].unique())"
   ]
  },
  {
   "cell_type": "code",
   "execution_count": 4,
   "id": "04bd109f",
   "metadata": {
    "scrolled": true
   },
   "outputs": [
    {
     "data": {
      "text/plain": [
       "79051.0"
      ]
     },
     "execution_count": 4,
     "metadata": {},
     "output_type": "execute_result"
    }
   ],
   "source": [
    "#What is the total number of jobs created for businesses in Queens?\n",
    "df_Queens=df1[df1['City']=='Queens']\n",
    "df_Queens['Census Tract'].fillna(0).sum()"
   ]
  },
  {
   "cell_type": "code",
   "execution_count": 5,
   "id": "7c8d9264",
   "metadata": {},
   "outputs": [
    {
     "data": {
      "text/plain": [
       "357"
      ]
     },
     "execution_count": 5,
     "metadata": {},
     "output_type": "execute_result"
    }
   ],
   "source": [
    "#How many different unique email domains names are there in the data set?\n",
    "df_email=pd.DataFrame(df1['company email'].dropna())\n",
    "df_email['domain']=df_email['company email'].str.partition('@')[2]\n",
    "#.extract(r'@(\\w+)',expand=True)\n",
    "len(df_email['domain'].unique())"
   ]
  },
  {
   "cell_type": "code",
   "execution_count": 6,
   "id": "0579a2e1",
   "metadata": {},
   "outputs": [
    {
     "name": "stdout",
     "output_type": "stream",
     "text": [
      "<class 'pandas.core.frame.DataFrame'>\n",
      "RangeIndex: 450 entries, 0 to 449\n",
      "Data columns (total 26 columns):\n",
      " #   Column                                     Non-Null Count  Dtype  \n",
      "---  ------                                     --------------  -----  \n",
      " 0   Company Name                               450 non-null    object \n",
      " 1   company contact                            450 non-null    object \n",
      " 2   company email                              433 non-null    object \n",
      " 3   company phone                              450 non-null    object \n",
      " 4   Address                                    450 non-null    object \n",
      " 5   City                                       450 non-null    object \n",
      " 6   State                                      450 non-null    object \n",
      " 7   Postcode                                   450 non-null    int64  \n",
      " 8   Industry                                   450 non-null    object \n",
      " 9   Industry descr                             434 non-null    object \n",
      " 10  Company Type                               450 non-null    object \n",
      " 11  Current fulltime                           446 non-null    float64\n",
      " 12  Job created                                11 non-null     float64\n",
      " 13  Job retain                                 14 non-null     float64\n",
      " 14  Effective Date                             450 non-null    object \n",
      " 15  Total Savings                              450 non-null    float64\n",
      " 16  Savings from beginning receiving benefits  450 non-null    float64\n",
      " 17  Borough                                    450 non-null    object \n",
      " 18  Latitude                                   409 non-null    float64\n",
      " 19  Longitude                                  409 non-null    float64\n",
      " 20  Community Board                            409 non-null    float64\n",
      " 21  Council District                           409 non-null    float64\n",
      " 22  Census Tract                               409 non-null    float64\n",
      " 23  BIN                                        401 non-null    float64\n",
      " 24  BBL                                        401 non-null    float64\n",
      " 25  NTA                                        409 non-null    object \n",
      "dtypes: float64(12), int64(1), object(13)\n",
      "memory usage: 91.5+ KB\n"
     ]
    }
   ],
   "source": [
    "df1.info()"
   ]
  },
  {
   "cell_type": "code",
   "execution_count": 7,
   "id": "e7202aba",
   "metadata": {},
   "outputs": [
    {
     "data": {
      "text/plain": [
       "NTA    7\n",
       "Name: College Point, dtype: int64"
      ]
     },
     "execution_count": 7,
     "metadata": {},
     "output_type": "execute_result"
    }
   ],
   "source": [
    "#Considering only NTAs with at least 5 listed businesses, \n",
    "#what is the average total savings and the total jobs created for each NTA?\n",
    "#Save your result for the previous question as a CSV file.\n",
    "col=['NTA','Company Name','Job created','Total Savings']\n",
    "df_NTA=df1[col]\n",
    "X=df1.groupby(['NTA'])['NTA'].count().to_frame()\n",
    "X.loc['College Point']"
   ]
  },
  {
   "cell_type": "code",
   "execution_count": 8,
   "id": "982291d1",
   "metadata": {},
   "outputs": [],
   "source": [
    "df_NTA=df_NTA[df_NTA['NTA'].isin(X[X['NTA']>=5].index)]"
   ]
  },
  {
   "cell_type": "code",
   "execution_count": 9,
   "id": "47ebdd82",
   "metadata": {},
   "outputs": [
    {
     "data": {
      "text/plain": [
       "ttl_jobs           2.000000\n",
       "avg_savings    17159.372857\n",
       "Name: College Point, dtype: float64"
      ]
     },
     "execution_count": 9,
     "metadata": {},
     "output_type": "execute_result"
    }
   ],
   "source": [
    "df_NTA=df_NTA[[col[0],col[2],col[3]] ]\n",
    "group=df_NTA.groupby('NTA').agg(\n",
    "ttl_jobs=pd.NamedAgg(column=col[2],aggfunc='sum'),\n",
    "    avg_savings=pd.NamedAgg(column=col[3],aggfunc='mean')\n",
    "    )\n",
    "group.loc['College Point']"
   ]
  },
  {
   "cell_type": "code",
   "execution_count": 10,
   "id": "7e415656",
   "metadata": {},
   "outputs": [
    {
     "data": {
      "text/plain": [
       "'done'"
      ]
     },
     "execution_count": 10,
     "metadata": {},
     "output_type": "execute_result"
    }
   ],
   "source": [
    "group.to_csv(\"Downloads/NTA.csv\")\n",
    "'done'"
   ]
  }
 ],
 "metadata": {
  "kernelspec": {
   "display_name": "Python 3 (ipykernel)",
   "language": "python",
   "name": "python3"
  },
  "language_info": {
   "codemirror_mode": {
    "name": "ipython",
    "version": 3
   },
   "file_extension": ".py",
   "mimetype": "text/x-python",
   "name": "python",
   "nbconvert_exporter": "python",
   "pygments_lexer": "ipython3",
   "version": "3.9.13"
  }
 },
 "nbformat": 4,
 "nbformat_minor": 5
}
